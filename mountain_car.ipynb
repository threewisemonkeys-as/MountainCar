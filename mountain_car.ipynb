{
 "cells": [
  {
   "cell_type": "code",
   "execution_count": 27,
   "metadata": {},
   "outputs": [],
   "source": [
    "import gym\n",
    "import random\n",
    "import numpy as np\n",
    "from matplotlib import pyplot as plt"
   ]
  },
  {
   "cell_type": "code",
   "execution_count": 28,
   "metadata": {},
   "outputs": [],
   "source": [
    "env = gym.make('MountainCar-v0')\n",
    "observation = env.reset()"
   ]
  },
  {
   "cell_type": "code",
   "execution_count": 78,
   "metadata": {},
   "outputs": [],
   "source": [
    "def learn(lr, df, episodes, epsilon, min_eps, log=False, render=False):\n",
    "    # Initialize q table\n",
    "    q = np.random.uniform(low = -1, high = 1, size = (19, 15, 3))\n",
    "    # q = np.random.normal(0, 10, (19, 15, 3))\n",
    "    # q = np.zeros((19, 15, 3))\n",
    "        \n",
    "    # Initialize rewards list\n",
    "    rewards_list = []\n",
    "    \n",
    "    # Initialize epsilon gradient\n",
    "    decrement = (epsilon - min_eps)/episodes\n",
    "    \n",
    "    for i in range(episodes):\n",
    "        \n",
    "        # Reset environment for each episode\n",
    "        observation = env.reset()\n",
    "\n",
    "        # Keeping track of reward\n",
    "        reward_total = 0\n",
    "\n",
    "        for step_index in range(200):\n",
    "            if render:\n",
    "                env.render()\n",
    "\n",
    "            # Discretize observation values\n",
    "            old_observation = observation\n",
    "            old_loc = int(round(old_observation[0], 1)*10 + 12)\n",
    "            old_vel = int(round(old_observation[1], 2)*100 + 7)\n",
    "\n",
    "            # Choose action using epsilon greedy\n",
    "            if np.random.rand() < epsilon:\n",
    "                action = env.action_space.sample()\n",
    "            else:\n",
    "                action = np.argmax(q[loc][vel])\n",
    "            epsilon -= decrement\n",
    "\n",
    "            # Take action\n",
    "            observation, reward, done, info = env.step(action)\n",
    "\n",
    "            # Update reward total\n",
    "            reward_total += reward\n",
    "\n",
    "            # Discretize observation values\n",
    "            loc = int(round(observation[0], 1)*10 + 12)\n",
    "            vel = int(round(observation[1], 2)*100 + 7)\n",
    "\n",
    "            # Update q table\n",
    "            if done and observation[0] > 0.5:\n",
    "                q[old_loc][old_vel][action] = reward\n",
    "            else:                   \n",
    "                max_q = np.amax(q[loc][vel])\n",
    "                q[old_loc][old_vel][action] = q[old_loc][old_vel][action]*(1-lr) + lr*(reward + df*max_q)\n",
    "\n",
    "            if done:\n",
    "                break\n",
    "        \n",
    "        if log and (i + 1)%100 == 0:\n",
    "            print(f\"Episode {i + 1}: {reward_total}\")\n",
    "        rewards_list.append(reward_total)\n",
    "    return q, rewards_list"
   ]
  },
  {
   "cell_type": "code",
   "execution_count": 79,
   "metadata": {},
   "outputs": [
    {
     "name": "stdout",
     "output_type": "stream",
     "text": [
      "Episode 100: -200.0\n",
      "Episode 200: -200.0\n",
      "Episode 300: -200.0\n",
      "Episode 400: -163.0\n",
      "Episode 500: -200.0\n",
      "Episode 600: -200.0\n",
      "Episode 700: -176.0\n",
      "Episode 800: -200.0\n",
      "Episode 900: -200.0\n",
      "Episode 1000: -200.0\n",
      "Episode 1100: -200.0\n",
      "Episode 1200: -196.0\n",
      "Episode 1300: -156.0\n",
      "Episode 1400: -178.0\n",
      "Episode 1500: -200.0\n",
      "Episode 1600: -174.0\n",
      "Episode 1700: -178.0\n",
      "Episode 1800: -174.0\n",
      "Episode 1900: -200.0\n",
      "Episode 2000: -193.0\n",
      "Episode 2100: -200.0\n",
      "Episode 2200: -153.0\n",
      "Episode 2300: -157.0\n",
      "Episode 2400: -150.0\n",
      "Episode 2500: -156.0\n",
      "Episode 2600: -200.0\n",
      "Episode 2700: -187.0\n",
      "Episode 2800: -159.0\n",
      "Episode 2900: -161.0\n",
      "Episode 3000: -200.0\n",
      "Episode 3100: -154.0\n",
      "Episode 3200: -163.0\n",
      "Episode 3300: -158.0\n",
      "Episode 3400: -200.0\n",
      "Episode 3500: -171.0\n",
      "Episode 3600: -173.0\n",
      "Episode 3700: -188.0\n",
      "Episode 3800: -156.0\n",
      "Episode 3900: -155.0\n",
      "Episode 4000: -154.0\n",
      "Episode 4100: -158.0\n",
      "Episode 4200: -200.0\n",
      "Episode 4300: -196.0\n",
      "Episode 4400: -157.0\n",
      "Episode 4500: -151.0\n",
      "Episode 4600: -150.0\n",
      "Episode 4700: -154.0\n",
      "Episode 4800: -190.0\n",
      "Episode 4900: -182.0\n",
      "Episode 5000: -191.0\n"
     ]
    },
    {
     "data": {
      "text/plain": [
       "[<matplotlib.lines.Line2D at 0x7f6adc86ac90>]"
      ]
     },
     "execution_count": 79,
     "metadata": {},
     "output_type": "execute_result"
    },
    {
     "data": {
      "image/png": "[encoded data removed]",
      "text/plain": [
       "<Figure size 432x288 with 1 Axes>"
      ]
     },
     "metadata": {
      "needs_background": "light"
     },
     "output_type": "display_data"
    }
   ],
   "source": [
    "lr = 0.2\n",
    "df = 0.9\n",
    "episodes = 5000\n",
    "epsilon = 0.8\n",
    "min_eps = 0\n",
    "\n",
    "q, rewards_list = learn(lr, df, episodes, epsilon, min_eps, log=True)\n",
    "plt.plot(rewards_list)"
   ]
  },
  {
   "cell_type": "code",
   "execution_count": 80,
   "metadata": {},
   "outputs": [],
   "source": [
    "def play_game(q, render=False, log=False):\n",
    "    \n",
    "    # Initialize environment and store initial conditions\n",
    "    observation = env.reset()\n",
    "    \n",
    "    for i in range(200):\n",
    "        if render:\n",
    "            env.render()\n",
    "\n",
    "        loc = int(round(observation[0], 1)*10 + 12)\n",
    "        vel = int(round(observation[1], 2)*100 + 7)\n",
    "        \n",
    "        action = np.argmax(q[loc][vel])\n",
    "        observation, reward, done, info = env.step(action)\n",
    "        \n",
    "        if log:\n",
    "            print(f\"Step {i}, action - {action}\")\n",
    "        \n",
    "        if done:\n",
    "            break\n",
    "            \n",
    "    return observation[0] > 0.5\n",
    "    "
   ]
  },
  {
   "cell_type": "code",
   "execution_count": 81,
   "metadata": {},
   "outputs": [],
   "source": [
    "def test(q, iterations, log=False, render=False):\n",
    "    s = 0\n",
    "    for i in range(iterations):\n",
    "        result = play_game(q, render)\n",
    "        s += result\n",
    "        if log:\n",
    "            print(f\"Iteration {i} - {result}\")\n",
    "    return (s / iterations) * 100"
   ]
  },
  {
   "cell_type": "code",
   "execution_count": 86,
   "metadata": {},
   "outputs": [
    {
     "data": {
      "text/plain": [
       "81.6"
      ]
     },
     "execution_count": 86,
     "metadata": {},
     "output_type": "execute_result"
    }
   ],
   "source": [
    "test(q, iterations=1000)"
   ]
  }
 ],
 "metadata": {
  "kernelspec": {
   "display_name": "Python 3",
   "language": "python",
   "name": "python3"
  },
  "language_info": {
   "codemirror_mode": {
    "name": "ipython",
    "version": 3
   },
   "file_extension": ".py",
   "mimetype": "text/x-python",
   "name": "python",
   "nbconvert_exporter": "python",
   "pygments_lexer": "ipython3",
   "version": "3.7.4"
  }
 },
 "nbformat": 4,
 "nbformat_minor": 2
}
